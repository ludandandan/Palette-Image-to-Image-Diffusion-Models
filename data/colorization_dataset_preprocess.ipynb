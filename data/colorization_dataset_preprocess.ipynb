{
 "cells": [
  {
   "cell_type": "code",
   "execution_count": 2,
   "metadata": {},
   "outputs": [],
   "source": [
    "import os\n",
    "import cv2\n"
   ]
  },
  {
   "cell_type": "code",
   "execution_count": 4,
   "metadata": {},
   "outputs": [],
   "source": [
    "color_path = \"/home/ludan/code/github/Palette/Palette-Image-to-Image-Diffusion-Models/datasets/celebahq_colorization/images/color\"\n",
    "gray_path = \"/home/ludan/code/github/Palette/Palette-Image-to-Image-Diffusion-Models/datasets/celebahq_colorization/images/gray\"\n"
   ]
  },
  {
   "cell_type": "code",
   "execution_count": 3,
   "metadata": {},
   "outputs": [],
   "source": [
    "# 读入color_path中彩色图像，并灰度化，保持3通道，保存在gray_path中\n",
    "for filename in os.listdir(color_path):\n",
    "    img = cv2.imread(os.path.join(color_path, filename))\n",
    "    img_gray = cv2.cvtColor(img, cv2.COLOR_BGR2GRAY)\n",
    "    cv2.imwrite(os.path.join(gray_path, filename), img_gray)"
   ]
  },
  {
   "cell_type": "code",
   "execution_count": 4,
   "metadata": {},
   "outputs": [],
   "source": [
    "colorization_flist_path = \"/home/ludan/code/github/Palette/Palette-Image-to-Image-Diffusion-Models/datasets/celebahq_colorization/flist\"\n",
    "original_flist_path = \"/home/ludan/code/github/Palette/Palette-Image-to-Image-Diffusion-Models/datasets/celebahq/flist\""
   ]
  },
  {
   "cell_type": "code",
   "execution_count": 5,
   "metadata": {},
   "outputs": [],
   "source": [
    "# 读入original_flist_path中的每一个flist文件，每行只保留后9位，将其中的文件名保存在colorization_flist_path中相同名称的文件中\n",
    "for filename in os.listdir(original_flist_path):\n",
    "    with open(os.path.join(original_flist_path, filename), 'r') as f:\n",
    "        lines = f.readlines()\n",
    "        lines = [line[-10:] for line in lines]\n",
    "        with open(os.path.join(colorization_flist_path, filename), 'w') as f:\n",
    "            f.writelines(lines)\n"
   ]
  },
  {
   "cell_type": "code",
   "execution_count": 7,
   "metadata": {},
   "outputs": [
    {
     "name": "stdout",
     "output_type": "stream",
     "text": [
      "(256, 256, 3)\n"
     ]
    }
   ],
   "source": [
    "# 载入color_path中一张图像\n",
    "img = cv2.imread(os.path.join(color_path, \"00000.jpg\"))\n",
    "# 打印图像的shape\n",
    "print(img.shape)"
   ]
  }
 ],
 "metadata": {
  "kernelspec": {
   "display_name": "py38forPalette",
   "language": "python",
   "name": "python3"
  },
  "language_info": {
   "codemirror_mode": {
    "name": "ipython",
    "version": 3
   },
   "file_extension": ".py",
   "mimetype": "text/x-python",
   "name": "python",
   "nbconvert_exporter": "python",
   "pygments_lexer": "ipython3",
   "version": "3.8.18"
  }
 },
 "nbformat": 4,
 "nbformat_minor": 2
}
