{
 "cells": [
  {
   "cell_type": "code",
   "execution_count": 1,
   "metadata": {},
   "outputs": [],
   "source": [
    "import os\n",
    "import cv2"
   ]
  },
  {
   "cell_type": "code",
   "execution_count": 3,
   "metadata": {},
   "outputs": [],
   "source": [
    "# 读入fs2k_colorizatin文件夹下面的所有图片文件名称，并制作一个train.flist文件，将此文件保存下来\n",
    "image_path = '/home/ludan/code/github/Palette/Palette-Image-to-Image-Diffusion-Models/datasets/celebahq_sketch/images/train/photo'\n",
    "list_path = '/home/ludan/code/github/Palette/Palette-Image-to-Image-Diffusion-Models/datasets/celebahq_sketch/flist/train.flist'\n",
    "# 检索image_path文件夹下面的所有文件名称\n",
    "img_names = os.listdir(image_path)\n",
    "# 保存所有文件名称到list_path文件中\n",
    "with open(list_path, 'w') as f:\n",
    "    for img_name in img_names:\n",
    "        f.write(img_name + '\\n')\n"
   ]
  },
  {
   "cell_type": "code",
   "execution_count": 12,
   "metadata": {},
   "outputs": [],
   "source": [
    "color_path = \"/home/ludan/code/github/Palette/Palette-Image-to-Image-Diffusion-Models/datasets/fs2k_colorization/FS2K_preproc/images/train/color\"\n",
    "gray_path = \"/home/ludan/code/github/Palette/Palette-Image-to-Image-Diffusion-Models/datasets/fs2k_colorization/FS2K_preproc/images/train/gray\"\n"
   ]
  },
  {
   "cell_type": "code",
   "execution_count": 13,
   "metadata": {},
   "outputs": [],
   "source": [
    "# 图像灰度化并保存在gray文件夹下面\n",
    "# 读入color_path中彩色图像，并灰度化，保持3通道，保存在gray_path中\n",
    "for filename in os.listdir(color_path):\n",
    "    img = cv2.imread(os.path.join(color_path, filename))\n",
    "    img_gray = cv2.cvtColor(img, cv2.COLOR_BGR2GRAY)\n",
    "    cv2.imwrite(os.path.join(gray_path, filename), img_gray)"
   ]
  },
  {
   "cell_type": "code",
   "execution_count": 9,
   "metadata": {},
   "outputs": [],
   "source": [
    "# 将 flist/train_flist.txt 中以\"photo1\"开头文件的名称保存在flist/train_flist_photo1.txt中\n",
    "start_from = \"photo3\"\n",
    "old_flist = \"/home/ludan/code/github/Palette/Palette-Image-to-Image-Diffusion-Models/datasets/fs2k_sketch/FS2K_preproc/flist/test.flist\"\n",
    "new_flist = \"/home/ludan/code/github/Palette/Palette-Image-to-Image-Diffusion-Models/datasets/fs2k_sketch/FS2K_preproc/flist/test_\"+start_from+\".flist\"\n",
    "with open(old_flist, 'r') as f:\n",
    "    lines = f.readlines()\n",
    "    with open(new_flist, 'w') as f2:\n",
    "        for line in lines:\n",
    "            if line.startswith(start_from):\n",
    "                f2.write(line)\n",
    "\n"
   ]
  },
  {
   "cell_type": "code",
   "execution_count": 2,
   "metadata": {},
   "outputs": [],
   "source": [
    "old_path = \"/home/ludan/code/github/Palette/Palette-Image-to-Image-Diffusion-Models/datasets/celebahq_sketch/images/train/sketch\"\n",
    "new_path = \"/home/ludan/code/github/Palette/Palette-Image-to-Image-Diffusion-Models/datasets/celebahq_sketch/images/train/sketch2\"\n",
    "\n",
    "# 将old_path文件夹下面的所有文件名称中的\"_fake_B\"去掉，并保存在new_path文件夹下面\n",
    "for filename in os.listdir(old_path):\n",
    "    new_name = filename.replace(\"_fake_B\", \"\")\n",
    "    os.rename(os.path.join(old_path, filename), os.path.join(new_path, new_name))"
   ]
  }
 ],
 "metadata": {
  "kernelspec": {
   "display_name": "py38forPalette",
   "language": "python",
   "name": "python3"
  },
  "language_info": {
   "codemirror_mode": {
    "name": "ipython",
    "version": 3
   },
   "file_extension": ".py",
   "mimetype": "text/x-python",
   "name": "python",
   "nbconvert_exporter": "python",
   "pygments_lexer": "ipython3",
   "version": "3.8.18"
  }
 },
 "nbformat": 4,
 "nbformat_minor": 2
}
